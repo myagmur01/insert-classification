{
 "cells": [
  {
   "cell_type": "markdown",
   "id": "framed-county",
   "metadata": {},
   "source": [
    "# Approaches"
   ]
  },
  {
   "cell_type": "markdown",
   "id": "overall-opening",
   "metadata": {},
   "source": [
    "-----"
   ]
  },
  {
   "cell_type": "markdown",
   "id": "billion-shape",
   "metadata": {},
   "source": [
    "### Imbalanced Rate\n",
    "-- train:\n",
    "- \"good\" samples: 1608 --> ~90%\n",
    "- \"bad\" samples: 171   --> ~10%\n"
   ]
  },
  {
   "cell_type": "markdown",
   "id": "irish-steal",
   "metadata": {},
   "source": [
    "----"
   ]
  },
  {
   "cell_type": "markdown",
   "id": "thorough-position",
   "metadata": {},
   "source": [
    "### Standart Pipeline"
   ]
  },
  {
   "cell_type": "markdown",
   "id": "middle-waterproof",
   "metadata": {},
   "source": [
    "\n",
    "\n",
    "#### 0. Data Visualization\n",
    "\n",
    "```\n",
    " - Class distribution plot\n",
    " - PCA/tSNE (Autoencoder)\n",
    " - GrabCam for attention\n",
    "```\n",
    "\n",
    "#### 1. Imbalanced dataset handling\n",
    "\n",
    "\n",
    "```\n",
    "- Weight balancing\n",
    "- Focal loss for handling false positive/negatives\n",
    "- Oversampling minority class by data augmentation\n",
    "```\n",
    " \n",
    " \n",
    " \n",
    "#### 2.Image Pre-processing\n",
    "\n",
    "```\n",
    " - Contour detection\n",
    " - Edge detection\n",
    " - (color adjustments)\n",
    " - Data Augmentation (cutout, cut mix , mixup, autoaugment)\n",
    " ```\n",
    " \n",
    "#### 4. Training\n",
    "\n",
    "```\n",
    " - Print a couple of model outputs\n",
    " - Train subset with simple and advanced model\n",
    " ```\n",
    " ```\n",
    " - Transfer learning (finetuning) \n",
    " - Cross-validation\n",
    " ```\n",
    " \n",
    " \n",
    "#### 5. Parameter Tuning\n",
    "\n",
    " ```\n",
    " - Parameter search (Keras tuner, grid, random)\n",
    " - Learning rate scheduler (exp, time..)\n",
    " - Regularization (L1/L2, drop-out, batch norm)\n",
    " - Selection of loss (focal loss)\n",
    " - Selection of optimizer\n",
    " ```\n",
    "\n",
    "#### 6. Evaluation\n",
    "\n",
    "```\n",
    " - check initial loss not greater than 1\n",
    " \n",
    "      0s: %10\n",
    "      1s: %90\n",
    "      -0.1.ln(0.5) - 0.9ln(0.5) = -0.693\n",
    "      \n",
    " - precision/recall curve\n",
    " - ROC/AUC curve\n",
    " - confusion matrix\n",
    " ```"
   ]
  },
  {
   "cell_type": "markdown",
   "id": "announced-delight",
   "metadata": {},
   "source": [
    "---"
   ]
  },
  {
   "cell_type": "markdown",
   "id": "suitable-escape",
   "metadata": {},
   "source": [
    "### Special Approaches"
   ]
  },
  {
   "cell_type": "markdown",
   "id": "dimensional-stack",
   "metadata": {},
   "source": [
    " \n",
    "#### Chaning classifier head\n",
    "\n",
    " ```\n",
    " - Extract features with a pretrained model \n",
    " - Use SVM/decision tree for classifying\n",
    " ```\n",
    "\n",
    "#### Unspervised learning\n",
    "\n",
    "```\n",
    "- SimCLR\n",
    "- k-means clustering with PCA\n",
    "```\n",
    "\n",
    "#### Similarity Learning\n",
    "\n",
    "```\n",
    "- Siamese Networks\n",
    "```"
   ]
  },
  {
   "cell_type": "markdown",
   "id": "theoretical-absorption",
   "metadata": {},
   "source": [
    "---"
   ]
  },
  {
   "cell_type": "markdown",
   "id": "orange-organ",
   "metadata": {},
   "source": []
  },
  {
   "cell_type": "code",
   "execution_count": null,
   "id": "mature-advisory",
   "metadata": {},
   "outputs": [],
   "source": []
  },
  {
   "cell_type": "code",
   "execution_count": null,
   "id": "governing-copyright",
   "metadata": {},
   "outputs": [],
   "source": []
  },
  {
   "cell_type": "code",
   "execution_count": null,
   "id": "southwest-consent",
   "metadata": {},
   "outputs": [],
   "source": []
  },
  {
   "cell_type": "code",
   "execution_count": null,
   "id": "fluid-pointer",
   "metadata": {},
   "outputs": [],
   "source": [
    "# Suppose we have some input data describing a graph of relationships between parents and children over multiple generations. The data is formatted as a list of (parent, child) pairs, where each individual is assigned a unique positive integer identifier.\n",
    "\n",
    "# For example, in this diagram, 3 is a child of 1 and 2, and 5 is a child of 4:\n",
    "\n",
    "# 1   2    4   15\n",
    "#  \\ /   / | \\ /\n",
    "#   3   5  8  9\n",
    "#    \\ / \\     \\\n",
    "#     6   7    11\n",
    "\n",
    "\n",
    "# Sample input/output (pseudodata):\n",
    "\n",
    "# parent_child_pairs = [\n",
    "#     (1, 3), (2, 3), (3, 6), (5, 6), (15, 9),\n",
    "#     (5, 7), (4, 5), (4, 8), (4, 9), (9, 11)\n",
    "# ]\n",
    "\n",
    "\n",
    "# Write a function that takes this data as input and returns two collections: \n",
    "\n",
    "    # one containing all individuals with zero known parents, and \n",
    "    # one containing all individuals with exactly one known parent.\n",
    "\n",
    "\n",
    "# Output may be in any order:\n",
    "\n",
    "# find_nodes_with_zero_and_one_parents(parent_child_pairs) => [\n",
    "#   [1, 2, 4, 15],       # Individuals with zero parents\n",
    "#   [5, 7, 8, 11]        # Individuals with exactly one parent\n",
    "# ]\n",
    "\n",
    "# n: number of pairs in the input\n",
    "\n",
    "parent_child_pairs = [\n",
    "    (1, 3), (2, 3), (3, 6), (5, 6), (15, 9),\n",
    "    (5, 7), (4, 5), (4, 8), (4, 9), (9, 11)]\n",
    "\n",
    "def findParentCases(parent_child_pairs):\n",
    "    \n",
    "    parentCounter = {}\n",
    "    # parentCounter = {\"1\":1, \"3\":2, \"2\":3,\"5\":2,...}\n",
    "    \n",
    "    \n",
    "    for inx, pair in enumerate(parent_child_pairs):\n",
    "        \n",
    "        parent = pair[0] #3\n",
    "        child = pair[1]  #6\n",
    "        \n",
    "        if parent not in parentCounter:\n",
    "            parentCounter[parent] = 1\n",
    "        else:\n",
    "            parentCounter[parent] += 1\n",
    "            \n",
    "        if child not in parentCounter:\n",
    "            parentCounter[child] = 1 \n",
    "        else:\n",
    "            parentCounter[child] += 1\n",
    "            \n",
    "        #inx=0 --> parentCounter = {\"1\":1,\"3\":1}\n",
    "        #inx=1 --> parentCounter = {\"1\":1,\"3\":2,\"2\":1}\n",
    "        #inx=2 --> parentCounter = {\"1\":1,\"3\":1,\"2\":1,\"6\":1}\n",
    "        \n",
    "        \n",
    "    \n",
    "    zeroParent = []\n",
    "    oneParent = []\n",
    "    \n",
    "    for k,v in parentCounter.items():\n",
    "        if v == 1:\n",
    "            zeroParent.append(k)\n",
    "        if v == 2:\n",
    "            oneParent.append(k)\n",
    "            \n",
    "\n",
    "    return zeroParent , oneParent\n",
    "        \n",
    "    \n",
    "\n",
    "if __name__ == \"__main__\":\n",
    "    \n",
    "    zeroParent , oneParent = findParentCases(parent_child_pairs)\n",
    "    \n",
    "    print(\"Zero parent individuals: \", zeroParent)\n",
    "    print(\"Zero parent individuals: \", oneParent)"
   ]
  },
  {
   "cell_type": "code",
   "execution_count": null,
   "id": "working-dylan",
   "metadata": {},
   "outputs": [],
   "source": []
  },
  {
   "cell_type": "code",
   "execution_count": null,
   "id": "adequate-country",
   "metadata": {},
   "outputs": [],
   "source": []
  },
  {
   "cell_type": "code",
   "execution_count": null,
   "id": "convenient-transformation",
   "metadata": {},
   "outputs": [],
   "source": []
  }
 ],
 "metadata": {
  "kernelspec": {
   "display_name": "Python 3",
   "language": "python",
   "name": "python3"
  },
  "language_info": {
   "codemirror_mode": {
    "name": "ipython",
    "version": 3
   },
   "file_extension": ".py",
   "mimetype": "text/x-python",
   "name": "python",
   "nbconvert_exporter": "python",
   "pygments_lexer": "ipython3",
   "version": "3.7.1"
  }
 },
 "nbformat": 4,
 "nbformat_minor": 5
}
